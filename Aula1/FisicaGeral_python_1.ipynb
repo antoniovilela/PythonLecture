{
 "cells": [
  {
   "cell_type": "markdown",
   "metadata": {
    "slideshow": {
     "slide_type": "slide"
    }
   },
   "source": [
    "# Python"
   ]
  },
  {
   "cell_type": "markdown",
   "metadata": {
    "slideshow": {
     "slide_type": "slide"
    }
   },
   "source": [
    "Python é uma linguagem de programação de propósito geral.\n",
    "\n",
    "É uma das linguagens de programação mais usadas no mundo atualmente. \n",
    "\n",
    "   + É intuitiva e de rápida aprendizagem.\n",
    "   + Integra uma vasta biblioteca para computação científica e análise de dados: matplotlib, NumPy, pandas, SciPy, statsmodel, scikit-learn, etc. \n",
    "   + É \"portátil\": o código escrito em Python pode ser processado em qualquer sistema ou plataforma.\n",
    "   + Como Python é uma linguagem *interpretada*, código escrito em Python será consideravelmente mais lento em comparação com um linguagem *compilada*.\n",
    "   + Este problema pode ser solucionado ou reduzido utilizando-se bibliotecas e extensões que são por sua vez escritas em linguagens como C/C++. Python oferece suporte para a integração destas bibliotecas.\n"
   ]
  },
  {
   "cell_type": "markdown",
   "metadata": {
    "slideshow": {
     "slide_type": "slide"
    }
   },
   "source": [
    "Você também pode usar python no seu celular ou tablet através de aplicativos como:\n",
    "   + QPython3\n",
    "   + Kivy"
   ]
  },
  {
   "cell_type": "markdown",
   "metadata": {
    "slideshow": {
     "slide_type": "slide"
    }
   },
   "source": [
    "Nessa aula, aprenderemos a:\n",
    "   + Definir e usar variáveis e objetos em Python.\n",
    "   + Escrever um script simples em python fazendo o uso de funções, listas, dicionários, etc.\n",
    "   + Usar ferramentas para visualizar um histograma (usando o pacote `matplolib`).\n",
    "\n",
    "Depois de assistir a essa aula, você pode aprender sozinhx a: \n",
    "   + Procurar por informação sobre Python\n",
    "   + Escrever Módulos de python\n",
    "   + Fazer tudo o que quiser com Python e não querer usar mais nada! (ou talvez algumas linguagens complementares)"
   ]
  },
  {
   "cell_type": "markdown",
   "metadata": {
    "slideshow": {
     "slide_type": "slide"
    }
   },
   "source": [
    "## O Criador\n",
    "Guido van Rossum\n",
    "<img src=\"pics/Guido_van_Rossum.jpg\" alt=\"Drawing\" style=\"width: 200px;\"/>"
   ]
  },
  {
   "cell_type": "markdown",
   "metadata": {
    "slideshow": {
     "slide_type": "slide"
    }
   },
   "source": [
    "## O Zen do Python"
   ]
  },
  {
   "cell_type": "code",
   "execution_count": 1,
   "metadata": {
    "slideshow": {
     "slide_type": "slide"
    }
   },
   "outputs": [
    {
     "name": "stdout",
     "output_type": "stream",
     "text": [
      "The Zen of Python, by Tim Peters\n",
      "\n",
      "Beautiful is better than ugly.\n",
      "Explicit is better than implicit.\n",
      "Simple is better than complex.\n",
      "Complex is better than complicated.\n",
      "Flat is better than nested.\n",
      "Sparse is better than dense.\n",
      "Readability counts.\n",
      "Special cases aren't special enough to break the rules.\n",
      "Although practicality beats purity.\n",
      "Errors should never pass silently.\n",
      "Unless explicitly silenced.\n",
      "In the face of ambiguity, refuse the temptation to guess.\n",
      "There should be one-- and preferably only one --obvious way to do it.\n",
      "Although that way may not be obvious at first unless you're Dutch.\n",
      "Now is better than never.\n",
      "Although never is often better than *right* now.\n",
      "If the implementation is hard to explain, it's a bad idea.\n",
      "If the implementation is easy to explain, it may be a good idea.\n",
      "Namespaces are one honking great idea -- let's do more of those!\n"
     ]
    }
   ],
   "source": [
    "import this"
   ]
  },
  {
   "cell_type": "markdown",
   "metadata": {
    "slideshow": {
     "slide_type": "slide"
    }
   },
   "source": [
    "## O que é Python?"
   ]
  },
  {
   "cell_type": "markdown",
   "metadata": {
    "slideshow": {
     "slide_type": "subslide"
    }
   },
   "source": [
    "![title](pics/animals_hero_burmesepython.jpg)"
   ]
  },
  {
   "cell_type": "markdown",
   "metadata": {
    "slideshow": {
     "slide_type": "subslide"
    }
   },
   "source": [
    "![title](pics/monty-python-wallpapers.jpg)"
   ]
  },
  {
   "cell_type": "markdown",
   "metadata": {
    "slideshow": {
     "slide_type": "slide"
    }
   },
   "source": [
    "   <ul>\n",
    "   <li> <b>Python</b>: Linguagem de programação de alto nível. \n",
    "   <li> Com regras de <b>sintaxe</b> para escrever o que é considerado um <b>código de Python válido</b>.\n",
    "   </ul>\n",
    "   <ul>\n",
    "   <li> <b>Interpretador</b> de Python: https://www.python.org/\n",
    "       <ul>\n",
    "       <li> Lê o código fonte (escrito em Python) e executa as instruções.\n",
    "       </ul>\n",
    "   </ul>\n",
    "   <ul>\n",
    "   <li> Python para iniciantes sem experiência prévia em programação:\n",
    "       <ul>\n",
    "       <li> https://automatetheboringstuff.com/\n",
    "       <li> http://openbookproject.net/thinkcs/python/english3e/\n",
    "       </ul>\n",
    "   </ul>"
   ]
  },
  {
   "cell_type": "markdown",
   "metadata": {
    "slideshow": {
     "slide_type": "slide"
    }
   },
   "source": [
    "## Como instalar Python?\n",
    "\n",
    "   * Recomendação: Instalar Anaconda https://docs.anaconda.com/anaconda/install/\n",
    "   * Inclui `IPython` (https://ipython.org/index.html) e o `Jupyter Notebook` (https://jupyter.org/).\n",
    "   * Muitos outros ambientes de desenvolvimento (IDEs), de acordo com a preferência. "
   ]
  },
  {
   "cell_type": "markdown",
   "metadata": {
    "slideshow": {
     "slide_type": "slide"
    }
   },
   "source": [
    "## Interpretador de Python\n",
    "\n",
    "   * Modo *prompt* e modo *script*."
   ]
  },
  {
   "cell_type": "markdown",
   "metadata": {
    "slideshow": {
     "slide_type": "slide"
    }
   },
   "source": [
    "## Interpretador de Python (Prompt)\n",
    "\n",
    "   * Abrir um terminal de Linux (com Python previamente instalado)\n",
    "   * `python`\n",
    "   * para sair: `ctrl + D`\n",
    "   * Para Windows, você pode usar um dos ambientes de desenvolvimento (IDE).\n",
    "   \n",
    "   ![title](pics/terminal.png)\n",
    "   \n",
    "   "
   ]
  },
  {
   "cell_type": "markdown",
   "metadata": {
    "slideshow": {
     "slide_type": "slide"
    }
   },
   "source": [
    "## Python como uma calculadora"
   ]
  },
  {
   "cell_type": "code",
   "execution_count": 2,
   "metadata": {
    "slideshow": {
     "slide_type": "slide"
    }
   },
   "outputs": [
    {
     "data": {
      "text/plain": [
       "4"
      ]
     },
     "execution_count": 2,
     "metadata": {},
     "output_type": "execute_result"
    }
   ],
   "source": [
    "2+2"
   ]
  },
  {
   "cell_type": "code",
   "execution_count": 3,
   "metadata": {
    "slideshow": {
     "slide_type": "slide"
    }
   },
   "outputs": [
    {
     "data": {
      "text/plain": [
       "5.0"
      ]
     },
     "execution_count": 3,
     "metadata": {},
     "output_type": "execute_result"
    }
   ],
   "source": [
    "from math import sqrt\n",
    "sqrt( 3**2 + 4**2 )"
   ]
  },
  {
   "cell_type": "code",
   "execution_count": 4,
   "metadata": {
    "slideshow": {
     "slide_type": "slide"
    }
   },
   "outputs": [
    {
     "name": "stdout",
     "output_type": "stream",
     "text": [
      "Mundo, mundo, vasto mundo\n"
     ]
    }
   ],
   "source": [
    "print(\"Mundo, mundo, vasto mundo\")"
   ]
  },
  {
   "cell_type": "markdown",
   "metadata": {
    "slideshow": {
     "slide_type": "slide"
    }
   },
   "source": [
    "## Tipo de dados de Python\n",
    "   \n",
    "   <ul>\n",
    "   <li> <b> valor </b>: algo fundamental manipulado pelo programa\n",
    "       <ul>\n",
    "       <li> letra\n",
    "       <li> número\n",
    "       </ul>\n",
    "   <li> <b> tipo de dados </b>: classificação dos valores \n",
    "       <ul>\n",
    "       <li> letra: <i>string</i>\n",
    "       <li> número: <i>inteiro, float, bool</i>\n",
    "       </ul>\n",
    "   </ul>"
   ]
  },
  {
   "cell_type": "markdown",
   "metadata": {
    "slideshow": {
     "slide_type": "slide"
    }
   },
   "source": [
    "## Tipos de dados de Python\n",
    "\n",
    "   * tuplas\n",
    "   * listas\n",
    "   * dicionários\n",
    "   * tipos de dados <i>built-in</i>: https://docs.python.org/3/library/stdtypes.html\n",
    "   * tipos de dados especializados: https://docs.python.org/3/library/datatypes.html"
   ]
  },
  {
   "cell_type": "code",
   "execution_count": 5,
   "metadata": {},
   "outputs": [
    {
     "name": "stdout",
     "output_type": "stream",
     "text": [
      "12345\n",
      "<class 'int'>\n",
      "10.2\n",
      "<class 'float'>\n",
      "3.141592653589793\n",
      "<class 'float'>\n"
     ]
    }
   ],
   "source": [
    "# Tipos numéricos: inteiros e float\n",
    "val = 12345\n",
    "print(val)\n",
    "print( type(val) )\n",
    "\n",
    "val = 10.2\n",
    "print(val)\n",
    "print( type(val) )\n",
    "\n",
    "import math\n",
    "val = math.pi\n",
    "print(val)\n",
    "print( type(val) )"
   ]
  },
  {
   "cell_type": "code",
   "execution_count": 6,
   "metadata": {},
   "outputs": [
    {
     "name": "stdout",
     "output_type": "stream",
     "text": [
      "<class 'bool'>\n"
     ]
    }
   ],
   "source": [
    "# Tipo bool: lógico (0 ou 1, falso ou verdadeiro)\n",
    "val = True\n",
    "print( type(val) )"
   ]
  },
  {
   "cell_type": "code",
   "execution_count": 7,
   "metadata": {},
   "outputs": [
    {
     "name": "stdout",
     "output_type": "stream",
     "text": [
      "<class 'str'>\n",
      "1\n",
      "<class 'str'>\n",
      "5\n"
     ]
    }
   ],
   "source": [
    "# Tipo string: caracteres\n",
    "S = 'a'\n",
    "print( type(S) )\n",
    "print( len(S) )\n",
    "\n",
    "S = 'abcde'\n",
    "print( type(S) )\n",
    "print( len(S) )"
   ]
  },
  {
   "cell_type": "code",
   "execution_count": 8,
   "metadata": {
    "slideshow": {
     "slide_type": "subslide"
    }
   },
   "outputs": [
    {
     "name": "stdout",
     "output_type": "stream",
     "text": [
      "Isto é uma tupla:  (1, 8, 10)\n"
     ]
    }
   ],
   "source": [
    "# A tupla é ordenada. Sintaxe: valores entre parênteses, separados por vírgulas.\n",
    "# A tupla é imutável.\n",
    "tupla = (1, 8, 10) \n",
    "print(\"Isto é uma tupla: \", tupla)"
   ]
  },
  {
   "cell_type": "code",
   "execution_count": 9,
   "metadata": {
    "slideshow": {
     "slide_type": "subslide"
    }
   },
   "outputs": [
    {
     "name": "stdout",
     "output_type": "stream",
     "text": [
      "Isto é uma lista:  [1, 8, 10]\n"
     ]
    }
   ],
   "source": [
    "# A lista É ORDENADA. Sintaxe: valores entre colchetes, separados por vírgulas.\n",
    "# A lista é mutável\n",
    "lista = [1, 8, 10]\n",
    "print(\"Isto é uma lista: \", lista)"
   ]
  },
  {
   "cell_type": "code",
   "execution_count": 10,
   "metadata": {
    "slideshow": {
     "slide_type": "subslide"
    }
   },
   "outputs": [
    {
     "name": "stdout",
     "output_type": "stream",
     "text": [
      "Este é um item da lista: 1\n",
      "Este é um item da lista: 8\n",
      "Este é um item da lista: 10\n"
     ]
    }
   ],
   "source": [
    "# loop for: para cada item da lista, fazer o comando dentro do loop.\n",
    "# a indentação é a estrutura absolutamente fundamental em python!\n",
    "for item in lista:\n",
    "    print(\"Este é um item da lista: {item_lista}\".format(item_lista=item))"
   ]
  },
  {
   "cell_type": "code",
   "execution_count": 11,
   "metadata": {
    "slideshow": {
     "slide_type": "subslide"
    }
   },
   "outputs": [
    {
     "name": "stdout",
     "output_type": "stream",
     "text": [
      "0\n",
      "1\n",
      "2\n",
      "3\n",
      "4\n",
      "5\n",
      "6\n",
      "7\n",
      "8\n",
      "9\n"
     ]
    }
   ],
   "source": [
    "for number in range(10):\n",
    "    print(number)"
   ]
  },
  {
   "cell_type": "code",
   "execution_count": 12,
   "metadata": {
    "slideshow": {
     "slide_type": "subslide"
    }
   },
   "outputs": [
    {
     "name": "stdout",
     "output_type": "stream",
     "text": [
      "0\n",
      "1\n",
      "3\n",
      "6\n",
      "10\n",
      "15\n",
      "21\n",
      "28\n",
      "36\n",
      "45\n"
     ]
    }
   ],
   "source": [
    "soma = 0\n",
    "for numero in range(10):\n",
    "    soma += numero\n",
    "    print(soma)"
   ]
  },
  {
   "cell_type": "code",
   "execution_count": 13,
   "metadata": {
    "slideshow": {
     "slide_type": "subslide"
    }
   },
   "outputs": [
    {
     "name": "stdout",
     "output_type": "stream",
     "text": [
      "Isto é um dicionário:  {'inteiro': 8, 'float': 3.8, 'boolean': True}\n",
      "Essas são as chaves do dicionario:  dict_keys(['inteiro', 'float', 'boolean'])\n"
     ]
    }
   ],
   "source": [
    "# definindo o dicionário e fazendo uso de 'casting' (converter uma variável de um tipo para outro) \n",
    "dicionario = {'inteiro': 8, 'float': float(3.8), 'boolean': bool(1)}\n",
    "print(\"Isto é um dicionário: \", dicionario)\n",
    "print(\"Essas são as chaves do dicionario: \", dicionario.keys())"
   ]
  },
  {
   "cell_type": "code",
   "execution_count": 14,
   "metadata": {
    "slideshow": {
     "slide_type": "subslide"
    }
   },
   "outputs": [
    {
     "name": "stdout",
     "output_type": "stream",
     "text": [
      "Este é o valor da chave 'inteiro': 8\n",
      "Este é o valor da chave 'float': 3.8\n",
      "Este é o valor da chave 'boolean': True\n"
     ]
    }
   ],
   "source": [
    "for keys in dicionario.keys():\n",
    "    print(\"Este é o valor da chave '{0}': {1}\".format(keys, dicionario[keys]))"
   ]
  },
  {
   "cell_type": "markdown",
   "metadata": {
    "slideshow": {
     "slide_type": "slide"
    }
   },
   "source": [
    "## Interpretador de Python (Modo Script)\n",
    "\n",
    "   * Em Linux, escolha um editor de texto de sua preferência para editar o seu script (em Windows, você pode usar por exemplo o <b>PyScripter</b>):\n",
    "      * emacs \n",
    "      * gedit\n",
    "      * atom\n",
    "      * sublime\n",
    "      * vim\n",
    "      \n",
    " "
   ]
  },
  {
   "cell_type": "code",
   "execution_count": 15,
   "metadata": {},
   "outputs": [
    {
     "name": "stdout",
     "output_type": "stream",
     "text": [
      "18\t1.68\t80\r\n",
      "18\t1.94\t60\r\n",
      "18\t1.7\t80\r\n",
      "18\t1.76\t66\r\n",
      "19\t1.73\t87.5\r\n",
      "18\t1.66\t58\r\n",
      "21\t1.8\t92\r\n",
      "18\t1.6\t57\r\n",
      "18\t1.67\t64\r\n",
      "18\t1.73\t57\r\n",
      "17\t1.73\t75\r\n",
      "18\t1.61\t59\r\n",
      "18\t1.69\t90\r\n",
      "17\t1.71\t67\r\n",
      "19\t1.78\t60\r\n",
      "22\t1.68\t72\r\n",
      "18\t1.7\t73\r\n",
      "19\t1.64\t86\r\n",
      "18\t1.64\t75\r\n",
      "20\t1.8\t95\r\n",
      "17\t1.75\t60\r\n",
      "18\t1.78\t75\r\n",
      "18\t1.75\t65\r\n",
      "17\t1.69\t60\r\n",
      "19\t1.78\t73\r\n",
      "18\t1.7\t63\r\n",
      "34\t1.75\t78\r\n",
      "18\t1.64\t64\r\n",
      "19\t1.75\t50\r\n",
      "18\t1.67\t61\r\n",
      "18\t1.7\t70\r\n",
      "20\t1.8\t60\r\n",
      "18\t1.63\t57\r\n",
      "23\t1.89\t110\r\n",
      "18\t1.71\t71\r\n",
      "18\t1.65\t65\r\n",
      "17\t1.72\t67\r\n",
      "19\t1.65\t58\r\n",
      "18\t1.75\t90\r\n",
      "18\t1.7\t64\r\n",
      "19\t1.81\t70\r\n",
      "19\t1.65\t43\r\n",
      "28\t1.52\t50\r\n",
      "19\t1.79\t78\r\n",
      "26\t1.79\t82\r\n",
      "19\t1.75\t61\r\n",
      "19\t1.8\t70\r\n",
      "20\t1.75\t70\r\n",
      "20\t1.73\t70\r\n",
      "19\t1.7\t50\r\n",
      "22\t1.78\t72\r\n",
      "19\t1.77\t55\r\n",
      "18\t1.53\t58\r\n",
      "28\t1.54\t50\r\n",
      "20\t1.83\t70\r\n",
      "44\t1.85\t90\r\n",
      "18\t1.6\t51\r\n"
     ]
    }
   ],
   "source": [
    "# Vamos usar o arquivo de dados:\n",
    "!cat ../Examples/dados_alunos.txt"
   ]
  },
  {
   "cell_type": "code",
   "execution_count": 16,
   "metadata": {},
   "outputs": [
    {
     "data": {
      "text/html": [
       "<div>\n",
       "<style scoped>\n",
       "    .dataframe tbody tr th:only-of-type {\n",
       "        vertical-align: middle;\n",
       "    }\n",
       "\n",
       "    .dataframe tbody tr th {\n",
       "        vertical-align: top;\n",
       "    }\n",
       "\n",
       "    .dataframe thead th {\n",
       "        text-align: right;\n",
       "    }\n",
       "</style>\n",
       "<table border=\"1\" class=\"dataframe\">\n",
       "  <thead>\n",
       "    <tr style=\"text-align: right;\">\n",
       "      <th></th>\n",
       "      <th>Idade (anos)</th>\n",
       "      <th>Altura (m)</th>\n",
       "      <th>Massa (Kg)</th>\n",
       "    </tr>\n",
       "  </thead>\n",
       "  <tbody>\n",
       "    <tr>\n",
       "      <th>count</th>\n",
       "      <td>57.000000</td>\n",
       "      <td>57.000000</td>\n",
       "      <td>57.000000</td>\n",
       "    </tr>\n",
       "    <tr>\n",
       "      <th>mean</th>\n",
       "      <td>19.824561</td>\n",
       "      <td>1.717544</td>\n",
       "      <td>68.500000</td>\n",
       "    </tr>\n",
       "    <tr>\n",
       "      <th>std</th>\n",
       "      <td>4.452619</td>\n",
       "      <td>0.082620</td>\n",
       "      <td>13.225381</td>\n",
       "    </tr>\n",
       "    <tr>\n",
       "      <th>min</th>\n",
       "      <td>17.000000</td>\n",
       "      <td>1.520000</td>\n",
       "      <td>43.000000</td>\n",
       "    </tr>\n",
       "    <tr>\n",
       "      <th>25%</th>\n",
       "      <td>18.000000</td>\n",
       "      <td>1.670000</td>\n",
       "      <td>60.000000</td>\n",
       "    </tr>\n",
       "    <tr>\n",
       "      <th>50%</th>\n",
       "      <td>18.000000</td>\n",
       "      <td>1.720000</td>\n",
       "      <td>67.000000</td>\n",
       "    </tr>\n",
       "    <tr>\n",
       "      <th>75%</th>\n",
       "      <td>19.000000</td>\n",
       "      <td>1.780000</td>\n",
       "      <td>75.000000</td>\n",
       "    </tr>\n",
       "    <tr>\n",
       "      <th>max</th>\n",
       "      <td>44.000000</td>\n",
       "      <td>1.940000</td>\n",
       "      <td>110.000000</td>\n",
       "    </tr>\n",
       "  </tbody>\n",
       "</table>\n",
       "</div>"
      ],
      "text/plain": [
       "       Idade (anos)  Altura (m)  Massa (Kg)\n",
       "count     57.000000   57.000000   57.000000\n",
       "mean      19.824561    1.717544   68.500000\n",
       "std        4.452619    0.082620   13.225381\n",
       "min       17.000000    1.520000   43.000000\n",
       "25%       18.000000    1.670000   60.000000\n",
       "50%       18.000000    1.720000   67.000000\n",
       "75%       19.000000    1.780000   75.000000\n",
       "max       44.000000    1.940000  110.000000"
      ]
     },
     "execution_count": 16,
     "metadata": {},
     "output_type": "execute_result"
    }
   ],
   "source": [
    "import pandas as pd\n",
    "df = pd.read_table('../Examples/dados_alunos.txt', header=None, names=('Idade (anos)', 'Altura (m)', 'Massa (Kg)'))\n",
    "df.head(10)\n",
    "df.describe()"
   ]
  },
  {
   "cell_type": "code",
   "execution_count": 17,
   "metadata": {
    "slideshow": {
     "slide_type": "slide"
    }
   },
   "outputs": [
    {
     "name": "stdout",
     "output_type": "stream",
     "text": [
      "media idade =  19.82456140350877    mean(idade):  19.82456140350877 \n",
      "\n",
      "desvio padrao idade:  4.452618840226599   stats.stdev(idade):  4.452618840226598   statistics.pstdev(idade):  4.413387953566483 \n",
      "\n",
      "media altura =  1.7175438596491233    mean(altura):  1.7175438596491228 \n",
      "\n",
      "media massa =  68.5    mean(massa):  68.5 \n",
      "\n"
     ]
    },
    {
     "data": {
      "text/plain": [
       "<Figure size 1200x800 with 3 Axes>"
      ]
     },
     "metadata": {},
     "output_type": "display_data"
    },
    {
     "ename": "SystemExit",
     "evalue": "0",
     "output_type": "error",
     "traceback": [
      "An exception has occurred, use %tb to see the full traceback.\n",
      "\u001b[0;31mSystemExit\u001b[0m\u001b[0;31m:\u001b[0m 0\n"
     ]
    },
    {
     "name": "stderr",
     "output_type": "stream",
     "text": [
      "/Users/antoniovilelapereira/anaconda3/lib/python3.7/site-packages/IPython/core/interactiveshell.py:3275: UserWarning: To exit: use 'exit', 'quit', or Ctrl-D.\n",
      "  warn(\"To exit: use 'exit', 'quit', or Ctrl-D.\", stacklevel=1)\n"
     ]
    }
   ],
   "source": [
    "#!/usr/bin/env python \n",
    "\n",
    "\"\"\"Os comentários em bloco ficam entre 3 aspas\n",
    "   Assim é possível comentar em bloco\n",
    "   A sintaxe usada acima: #!/usr/bin/env python é para indicar qual interpretador de Python o sistema deve usar. É específica do sistema Unix.\n",
    "   Em Unix, um arquivo executável que começa com #! indica qual o interpretador deve ser utilizado. \n",
    "\"\"\"\n",
    "\n",
    "# com o import, explicitamos os módulos de Python que serão usados nesse programa  \n",
    "import os  # esse módulo é usado para acessar funcionalidades do sistema opracional (em geral, oferece portabilidade, i.e, estabilidade entre os diferentes sistemas operacionais)\n",
    "import sys # para interagir com o interpretador\n",
    "import statistics, math #bibliotecas usadas para o calculo de medias e desvio padrao populacional e amostral\n",
    "# bibliotecas para fazer histograma\n",
    "import matplotlib.pyplot as plt # matplotlib é uma biblioteca de python para produzir figuras. pyplot é um módulo (arquivo contendo definições de funções e outros) do matplotlib que produz gráficos, histogramas, etc, no estilo MATLAB.\n",
    "import numpy as np\n",
    "from matplotlib import colors\n",
    "\n",
    "figsize_def = (12,8)\n",
    "\n",
    "def main(arguments):\n",
    "    \n",
    "    # Nome do arquivo de entrada\n",
    "    #input_file = '/Users/helenamalbouisson/cernbox/Work/UERJ/Aulas/PYTHON/FisicaGeral_2017-2_2018-1/PythonLecture/Examples/dados_alunos.txt'\n",
    "    input_file = '../Examples/dados_alunos.txt'\n",
    "    \n",
    "    # Abre o arquivo de entrada no modo de leitura\n",
    "    ifile = open(input_file, 'r')\n",
    "    \n",
    "    # Percorre o arquivo de entrada linha por linha e \n",
    "    # salva cada coluna do arquivo em listas\n",
    "    idade = []\n",
    "    altura = []\n",
    "    massa = []\n",
    "    for line in ifile:\n",
    "        columns = line.split()\n",
    "        idade.append(eval(columns[0]))\n",
    "        altura.append(eval(columns[1]))\n",
    "        massa.append(eval(columns[2]))\n",
    "    \n",
    "    # calcula a média de cada uma das colunas do arquivo de entrada:\n",
    "    # idade, altura e massa:\n",
    "    print ('media idade = ', media(idade), '   mean(idade): ', statistics.mean(idade), '\\n')\n",
    "    print ('desvio padrao idade: ', sstddev(idade), '  stats.stdev(idade): ', statistics.stdev(idade), '  statistics.pstdev(idade): ', statistics.pstdev(idade), '\\n')\n",
    "    print ('media altura = ', media(altura), '   mean(altura): ', statistics.mean(altura), '\\n')\n",
    "    print ('media massa = ', media(massa), '   mean(massa): ', statistics.mean(massa), '\\n')\n",
    "\n",
    "    # histogramas\n",
    "    fig, axs = plt.subplots(1, 3, figsize=figsize_def) # cria uma figura com três histogramas\n",
    "    \n",
    "    # define a classe de frequência, título dos eixos e do histograma na posição 0\n",
    "    axs[0].hist(idade, bins=30, range=(16,46), color='red')\n",
    "    axs[0].set_title('idade')\n",
    "    axs[0].set_xlabel('idade (anos)')\n",
    "    axs[0].set_ylabel('frequencia/ano')\n",
    "\n",
    "    # define a classe de frequência, título dos eixos e do histograma na posição 1\n",
    "    axs[1].hist(altura, bins=8, range=(1.6,2.0), color='green')\n",
    "    axs[1].set_title('altura')\n",
    "    axs[1].set_xlabel('altura (m)')\n",
    "    axs[1].set_ylabel('frequencia/0.05 m')\n",
    "\n",
    "    # define a classe de frequência, título dos eixos e do histograma na posição 2\n",
    "    axs[2].hist(massa, bins=8, range=(40,120), color='grey')\n",
    "    axs[2].set_title('massa')\n",
    "    axs[2].set_xlabel('massa (Kg)')\n",
    "    axs[2].set_ylabel('frequencia/10 Kg')\n",
    "\n",
    "    plt.show()\n",
    "\n",
    "    #plot_hist(idade, 30, (16,46), 'red')\n",
    "    #plot_hist(altura, 40, (1.6,2.0), 'green')\n",
    "    #plot_hist(massa, 80, (40, 120), 'grey')\n",
    "    \n",
    "    return 0\n",
    "\n",
    "def media(input_list):\n",
    "    # essa funcao calcula a media dos itens da lista input_list\n",
    "    ##sum_num = 0\n",
    "    ##for i in input_list:\n",
    "        ##sum_num = sum_num + i\n",
    "    #return sum_num/len(input_list)\n",
    "    return sum(input_list)/len(input_list)\n",
    "\n",
    "\n",
    "def sstddev(input_list):\n",
    "    # cacula o desvio padrão amostral\n",
    "    # usa a biblioteca statistics do python\n",
    "    # https://docs.python.org/3/library/statistics.html\n",
    "    \n",
    "    N = len(input_list)\n",
    "    m = statistics.mean(input_list)\n",
    "    variance = 0\n",
    "    for i in input_list:\n",
    "        variance = variance + pow((i - m), 2)\n",
    "    \n",
    "    variance = variance/N\n",
    "    sample_stddev = math.sqrt((N/(N - 1))*variance)\n",
    "\n",
    "    return sample_stddev\n",
    "\n",
    "def plot_hist(input_list, n_bins, hist_range, cor):\n",
    "    # essa função pega como input uma lista \n",
    "    # e faz um histograma usando bibliotecas do\n",
    "    # matplotlib: https://matplotlib.org/api/_as_gen/matplotlib.pyplot.hist.html\n",
    "    # outras opções de módulos que tb fazem histogramas são:\n",
    "    # plotly, rootpy.\n",
    "\n",
    "    fig, ax = plt.subplots()\n",
    "    ax.hist(input_list, bins=n_bins, range=hist_range, color=cor)\n",
    "    plt.show()\n",
    "\n",
    "    ##n_bins = [16 + i for i in range(30)]\n",
    "    ##fig, ax = plt.subplots()\n",
    "    ##ax.hist(idade, bins=n_bins, color='red')\n",
    "    ##plt.show()\n",
    "\n",
    "if __name__ == '__main__':\n",
    "    sys.exit( main( sys.argv[1:] ) )\n",
    "    "
   ]
  },
  {
   "cell_type": "code",
   "execution_count": null,
   "metadata": {
    "slideshow": {
     "slide_type": "slide"
    }
   },
   "outputs": [],
   "source": [
    "%run -i '../Examples/pyscript.py'"
   ]
  },
  {
   "cell_type": "code",
   "execution_count": null,
   "metadata": {
    "slideshow": {
     "slide_type": "slide"
    }
   },
   "outputs": [],
   "source": [
    "import antigravity"
   ]
  },
  {
   "cell_type": "markdown",
   "metadata": {
    "slideshow": {
     "slide_type": "slide"
    }
   },
   "source": [
    "## Feliz Python!\n",
    "![title](pics/antigravity_cartoon.png)\n",
    "https://xkcd.com/353/"
   ]
  },
  {
   "cell_type": "code",
   "execution_count": null,
   "metadata": {},
   "outputs": [],
   "source": []
  }
 ],
 "metadata": {
  "celltoolbar": "Slideshow",
  "kernelspec": {
   "display_name": "Python 3",
   "language": "python",
   "name": "python3"
  },
  "language_info": {
   "codemirror_mode": {
    "name": "ipython",
    "version": 3
   },
   "file_extension": ".py",
   "mimetype": "text/x-python",
   "name": "python",
   "nbconvert_exporter": "python",
   "pygments_lexer": "ipython3",
   "version": "3.7.1"
  }
 },
 "nbformat": 4,
 "nbformat_minor": 2
}

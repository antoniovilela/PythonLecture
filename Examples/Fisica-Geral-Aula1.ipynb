{
 "cells": [
  {
   "cell_type": "code",
   "execution_count": 1,
   "metadata": {},
   "outputs": [
    {
     "data": {
      "text/plain": [
       "[34, 29, 26, 37, 31]"
      ]
     },
     "execution_count": 1,
     "metadata": {},
     "output_type": "execute_result"
    }
   ],
   "source": [
    "X = [34, 29, 26, 37, 31]\n",
    "X"
   ]
  },
  {
   "cell_type": "code",
   "execution_count": 2,
   "metadata": {},
   "outputs": [
    {
     "name": "stdout",
     "output_type": "stream",
     "text": [
      "31.4\n"
     ]
    }
   ],
   "source": [
    "x_media = (34 + 29 + 26 + 37 + 31)/5\n",
    "print(x_media)"
   ]
  },
  {
   "cell_type": "code",
   "execution_count": 3,
   "metadata": {},
   "outputs": [
    {
     "name": "stdout",
     "output_type": "stream",
     "text": [
      "31.6322620120661\n"
     ]
    }
   ],
   "source": [
    "import math\n",
    "x_rms = math.sqrt( ( 34**2 + 29**2 + 26**2 + 37**2 + 31**2 )/5 )\n",
    "print(x_rms)"
   ]
  },
  {
   "cell_type": "code",
   "execution_count": 4,
   "metadata": {},
   "outputs": [
    {
     "name": "stdout",
     "output_type": "stream",
     "text": [
      "1000.6\n"
     ]
    }
   ],
   "source": [
    "x2_media = ( 34**2 + 29**2 + 26**2 + 37**2 + 31**2 )/5\n",
    "print(x2_media)"
   ]
  },
  {
   "cell_type": "code",
   "execution_count": 5,
   "metadata": {},
   "outputs": [
    {
     "name": "stdout",
     "output_type": "stream",
     "text": [
      "14.6400000000001\n"
     ]
    }
   ],
   "source": [
    "variancia = x2_media - x_media**2\n",
    "print(variancia)"
   ]
  },
  {
   "cell_type": "code",
   "execution_count": 6,
   "metadata": {},
   "outputs": [
    {
     "name": "stdout",
     "output_type": "stream",
     "text": [
      "3.8262252939418113\n"
     ]
    }
   ],
   "source": [
    "desvio_padrao = math.sqrt( variancia )\n",
    "print(desvio_padrao)"
   ]
  },
  {
   "cell_type": "code",
   "execution_count": null,
   "metadata": {},
   "outputs": [],
   "source": []
  },
  {
   "cell_type": "code",
   "execution_count": 7,
   "metadata": {},
   "outputs": [
    {
     "name": "stdout",
     "output_type": "stream",
     "text": [
      "[149.9, 149.85, 149.7, 149.7, 149.65, 149.78, 150.9, 151.2, 151.1, 150.1, 149.9, 150.1, 150.12, 150.02, 149.89]\n"
     ]
    }
   ],
   "source": [
    "\"\"\"\n",
    "dados_comprimento = [\n",
    "    150.0,\n",
    "    150.1,\n",
    "    150.8,\n",
    "    150.0,\n",
    "    150.0,\n",
    "    144.1,\n",
    "    150.0,\n",
    "    150.3,\n",
    "    149.9,\n",
    "    150.0,\n",
    "    150.0,\n",
    "    150.1,\n",
    "    150.2,\n",
    "    150.0,\n",
    "]\n",
    "\"\"\"\n",
    "\"\"\"\n",
    "dados_comprimento = [\n",
    "    149.9,\n",
    "    149.88,\n",
    "    150.09,\n",
    "    152.1,\n",
    "    150.09,\n",
    "    150.50,\n",
    "    150.12,\n",
    "    150.36,\n",
    "    149.82,\n",
    "    150.10,\n",
    "    149.92,\n",
    "    150.10,\n",
    "    150.05,\n",
    "    150.10,\n",
    "    150.03,\n",
    "    150.00,\n",
    "    150.10\n",
    "]\n",
    "\"\"\"\n",
    "dados_comprimento = [\n",
    "    149.90,\n",
    "    149.85,\n",
    "    149.70,\n",
    "    149.70,\n",
    "    149.65,\n",
    "    149.78,\n",
    "    150.9,\n",
    "    151.2,\n",
    "    151.1,\n",
    "    150.1,\n",
    "    149.9,\n",
    "    150.1,\n",
    "    150.12,\n",
    "    150.02,\n",
    "    149.89\n",
    "]\n",
    "print (dados_comprimento)"
   ]
  },
  {
   "cell_type": "code",
   "execution_count": 8,
   "metadata": {},
   "outputs": [
    {
     "name": "stdout",
     "output_type": "stream",
     "text": [
      "15\n",
      "150.12733333333333\n"
     ]
    }
   ],
   "source": [
    "soma_x = 0.\n",
    "for x in dados_comprimento: soma_x += x\n",
    "media = soma_x/len(dados_comprimento) \n",
    "print (len(dados_comprimento))\n",
    "print (media)"
   ]
  },
  {
   "cell_type": "code",
   "execution_count": 9,
   "metadata": {},
   "outputs": [
    {
     "data": {
      "text/plain": [
       "Text(0, 0.5, 'Nr. entradas')"
      ]
     },
     "execution_count": 9,
     "metadata": {},
     "output_type": "execute_result"
    },
    {
     "data": {
      "image/png": "[encoded data removed]",
      "text/plain": [
       "<Figure size 600x600 with 1 Axes>"
      ]
     },
     "metadata": {},
     "output_type": "display_data"
    }
   ],
   "source": [
    "import numpy as np\n",
    "import matplotlib.pyplot as plt\n",
    "%matplotlib inline\n",
    "\n",
    "plt.style.use('default')\n",
    "\n",
    "fig = plt.figure(figsize=(6,6))\n",
    "#plt.hist(dados_comprimento, bins=30)\n",
    "plt.hist(dados_comprimento, bins=np.arange(148.,155.,0.5))\n",
    "plt.xlabel('L (cm)')\n",
    "plt.ylabel('Nr. entradas')"
   ]
  },
  {
   "cell_type": "code",
   "execution_count": 10,
   "metadata": {},
   "outputs": [
    {
     "name": "stdout",
     "output_type": "stream",
     "text": [
      "[0 0 0 8 4 1 2 0 0 0 0 0 0]\n",
      "[148.  148.5 149.  149.5 150.  150.5 151.  151.5 152.  152.5 153.  153.5\n",
      " 154.  154.5]\n"
     ]
    }
   ],
   "source": [
    "hist, bin_edges = np.histogram( dados_comprimento , bins = np.arange(148.,155.,0.5) )\n",
    "print ( hist )\n",
    "print ( bin_edges )"
   ]
  },
  {
   "cell_type": "code",
   "execution_count": 23,
   "metadata": {},
   "outputs": [
    {
     "data": {
      "text/html": [
       "<div>\n",
       "<style scoped>\n",
       "    .dataframe tbody tr th:only-of-type {\n",
       "        vertical-align: middle;\n",
       "    }\n",
       "\n",
       "    .dataframe tbody tr th {\n",
       "        vertical-align: top;\n",
       "    }\n",
       "\n",
       "    .dataframe thead th {\n",
       "        text-align: right;\n",
       "    }\n",
       "</style>\n",
       "<table border=\"1\" class=\"dataframe\">\n",
       "  <thead>\n",
       "    <tr style=\"text-align: right;\">\n",
       "      <th></th>\n",
       "      <th>L</th>\n",
       "    </tr>\n",
       "  </thead>\n",
       "  <tbody>\n",
       "    <tr>\n",
       "      <th>0</th>\n",
       "      <td>149.90</td>\n",
       "    </tr>\n",
       "    <tr>\n",
       "      <th>1</th>\n",
       "      <td>149.85</td>\n",
       "    </tr>\n",
       "    <tr>\n",
       "      <th>2</th>\n",
       "      <td>149.70</td>\n",
       "    </tr>\n",
       "    <tr>\n",
       "      <th>3</th>\n",
       "      <td>149.70</td>\n",
       "    </tr>\n",
       "    <tr>\n",
       "      <th>4</th>\n",
       "      <td>149.65</td>\n",
       "    </tr>\n",
       "    <tr>\n",
       "      <th>5</th>\n",
       "      <td>149.78</td>\n",
       "    </tr>\n",
       "    <tr>\n",
       "      <th>6</th>\n",
       "      <td>150.90</td>\n",
       "    </tr>\n",
       "    <tr>\n",
       "      <th>7</th>\n",
       "      <td>151.20</td>\n",
       "    </tr>\n",
       "    <tr>\n",
       "      <th>8</th>\n",
       "      <td>151.10</td>\n",
       "    </tr>\n",
       "    <tr>\n",
       "      <th>9</th>\n",
       "      <td>150.10</td>\n",
       "    </tr>\n",
       "    <tr>\n",
       "      <th>10</th>\n",
       "      <td>149.90</td>\n",
       "    </tr>\n",
       "    <tr>\n",
       "      <th>11</th>\n",
       "      <td>150.10</td>\n",
       "    </tr>\n",
       "    <tr>\n",
       "      <th>12</th>\n",
       "      <td>150.12</td>\n",
       "    </tr>\n",
       "    <tr>\n",
       "      <th>13</th>\n",
       "      <td>150.02</td>\n",
       "    </tr>\n",
       "    <tr>\n",
       "      <th>14</th>\n",
       "      <td>149.89</td>\n",
       "    </tr>\n",
       "  </tbody>\n",
       "</table>\n",
       "</div>"
      ],
      "text/plain": [
       "         L\n",
       "0   149.90\n",
       "1   149.85\n",
       "2   149.70\n",
       "3   149.70\n",
       "4   149.65\n",
       "5   149.78\n",
       "6   150.90\n",
       "7   151.20\n",
       "8   151.10\n",
       "9   150.10\n",
       "10  149.90\n",
       "11  150.10\n",
       "12  150.12\n",
       "13  150.02\n",
       "14  149.89"
      ]
     },
     "execution_count": 23,
     "metadata": {},
     "output_type": "execute_result"
    }
   ],
   "source": [
    "import pandas as pd\n",
    "\n",
    "#df = pd.DataFrame( { 'L': dados_comprimento } )\n",
    "df = pd.DataFrame( dados_comprimento, columns=['L'] )\n",
    "df"
   ]
  },
  {
   "cell_type": "code",
   "execution_count": 24,
   "metadata": {},
   "outputs": [
    {
     "data": {
      "text/html": [
       "<div>\n",
       "<style scoped>\n",
       "    .dataframe tbody tr th:only-of-type {\n",
       "        vertical-align: middle;\n",
       "    }\n",
       "\n",
       "    .dataframe tbody tr th {\n",
       "        vertical-align: top;\n",
       "    }\n",
       "\n",
       "    .dataframe thead th {\n",
       "        text-align: right;\n",
       "    }\n",
       "</style>\n",
       "<table border=\"1\" class=\"dataframe\">\n",
       "  <thead>\n",
       "    <tr style=\"text-align: right;\">\n",
       "      <th></th>\n",
       "      <th>L</th>\n",
       "    </tr>\n",
       "  </thead>\n",
       "  <tbody>\n",
       "    <tr>\n",
       "      <th>count</th>\n",
       "      <td>15.000000</td>\n",
       "    </tr>\n",
       "    <tr>\n",
       "      <th>mean</th>\n",
       "      <td>150.127333</td>\n",
       "    </tr>\n",
       "    <tr>\n",
       "      <th>std</th>\n",
       "      <td>0.511098</td>\n",
       "    </tr>\n",
       "    <tr>\n",
       "      <th>min</th>\n",
       "      <td>149.650000</td>\n",
       "    </tr>\n",
       "    <tr>\n",
       "      <th>25%</th>\n",
       "      <td>149.815000</td>\n",
       "    </tr>\n",
       "    <tr>\n",
       "      <th>50%</th>\n",
       "      <td>149.900000</td>\n",
       "    </tr>\n",
       "    <tr>\n",
       "      <th>75%</th>\n",
       "      <td>150.110000</td>\n",
       "    </tr>\n",
       "    <tr>\n",
       "      <th>max</th>\n",
       "      <td>151.200000</td>\n",
       "    </tr>\n",
       "  </tbody>\n",
       "</table>\n",
       "</div>"
      ],
      "text/plain": [
       "                L\n",
       "count   15.000000\n",
       "mean   150.127333\n",
       "std      0.511098\n",
       "min    149.650000\n",
       "25%    149.815000\n",
       "50%    149.900000\n",
       "75%    150.110000\n",
       "max    151.200000"
      ]
     },
     "execution_count": 24,
     "metadata": {},
     "output_type": "execute_result"
    }
   ],
   "source": [
    "df.describe()"
   ]
  },
  {
   "cell_type": "code",
   "execution_count": 12,
   "metadata": {},
   "outputs": [
    {
     "data": {
      "text/plain": [
       "0     22470.0100\n",
       "1     22455.0225\n",
       "2     22410.0900\n",
       "3     22410.0900\n",
       "4     22395.1225\n",
       "5     22434.0484\n",
       "6     22770.8100\n",
       "7     22861.4400\n",
       "8     22831.2100\n",
       "9     22530.0100\n",
       "10    22470.0100\n",
       "11    22530.0100\n",
       "12    22536.0144\n",
       "13    22506.0004\n",
       "14    22467.0121\n",
       "Name: L, dtype: float64"
      ]
     },
     "execution_count": 12,
     "metadata": {},
     "output_type": "execute_result"
    }
   ],
   "source": [
    "#df.iloc[:,0].apply( np.square )\n",
    "np.square( df.iloc[:,0] )"
   ]
  },
  {
   "cell_type": "code",
   "execution_count": 22,
   "metadata": {},
   "outputs": [
    {
     "name": "stdout",
     "output_type": "stream",
     "text": [
      "<L^2>     =  22538.46002\n",
      "L_rms     =  150.12814532924864\n",
      "Var.      =  0.24380622222452075\n",
      "Std. dev. =  0.49376737663045417\n"
     ]
    }
   ],
   "source": [
    "#L2 = df.iloc[:,0].apply(np.square)\n",
    "#df['L2'] = L2\n",
    "#mean_L = df.iloc[:,0].mean()\n",
    "#mean_L2 = df.iloc[:,1].mean()\n",
    "\n",
    "#mean_L = df.iloc[:,0].mean()\n",
    "#mean_L2 = ( np.square( df.iloc[:,0] ) ).mean()\n",
    "\n",
    "def mean_square( arr ):\n",
    "    val = ( np.square( arr ) ).mean()   \n",
    "    return val\n",
    "\n",
    "L = df.iloc[:,0]  \n",
    "mean_L = L.mean()\n",
    "mean_L2 = mean_square( L )\n",
    "\n",
    "var = mean_L2 - mean_L**2\n",
    "sig = np.sqrt( var )\n",
    "print ( \"<L^2>     = \" , mean_L2 )\n",
    "print ( \"L_rms     = \" , np.sqrt(mean_L2) )\n",
    "print ( \"Var.      = \" , var)\n",
    "print ( \"Std. dev. = \" , sig)"
   ]
  },
  {
   "cell_type": "code",
   "execution_count": 14,
   "metadata": {},
   "outputs": [
    {
     "name": "stdout",
     "output_type": "stream",
     "text": [
      "149.65\n",
      "151.2\n"
     ]
    }
   ],
   "source": [
    "print ( L.min() )\n",
    "print ( L.max() )"
   ]
  },
  {
   "cell_type": "code",
   "execution_count": 15,
   "metadata": {},
   "outputs": [],
   "source": [
    "idade = [\n",
    "    17,\n",
    "    17,\n",
    "    19,\n",
    "    18,\n",
    "    17,\n",
    "    18,\n",
    "    19,\n",
    "    20,\n",
    "    17,\n",
    "    18,\n",
    "    18,\n",
    "    20,\n",
    "    18,\n",
    "    18,\n",
    "    18,\n",
    "    18\n",
    "]\n",
    "\n",
    "massa = [\n",
    "    60.3,\n",
    "    55.4,\n",
    "    52.0,\n",
    "    64.0,\n",
    "    78.0,\n",
    "    60.0,\n",
    "    46.0,\n",
    "    65.0,\n",
    "    80.0,\n",
    "    68.0,\n",
    "    46.8,\n",
    "    56.0,\n",
    "    70.0,\n",
    "    50.5,\n",
    "    68.5,\n",
    "    44.5\n",
    "]\n",
    "\n",
    "altura = [\n",
    "    174.0,\n",
    "    170.0,\n",
    "    169.0,\n",
    "    178.0,\n",
    "    178.0,\n",
    "    175.0,\n",
    "    160.0,\n",
    "    180.0,\n",
    "    168.0,\n",
    "    183.0,\n",
    "    170.0,\n",
    "    157.0,\n",
    "    180.0,\n",
    "    155.0,\n",
    "    191.0,\n",
    "    158.0    \n",
    "]\n"
   ]
  },
  {
   "cell_type": "code",
   "execution_count": 16,
   "metadata": {},
   "outputs": [
    {
     "data": {
      "text/html": [
       "<div>\n",
       "<style scoped>\n",
       "    .dataframe tbody tr th:only-of-type {\n",
       "        vertical-align: middle;\n",
       "    }\n",
       "\n",
       "    .dataframe tbody tr th {\n",
       "        vertical-align: top;\n",
       "    }\n",
       "\n",
       "    .dataframe thead th {\n",
       "        text-align: right;\n",
       "    }\n",
       "</style>\n",
       "<table border=\"1\" class=\"dataframe\">\n",
       "  <thead>\n",
       "    <tr style=\"text-align: right;\">\n",
       "      <th></th>\n",
       "      <th>Idade</th>\n",
       "      <th>Massa</th>\n",
       "      <th>Altura</th>\n",
       "    </tr>\n",
       "  </thead>\n",
       "  <tbody>\n",
       "    <tr>\n",
       "      <th>0</th>\n",
       "      <td>17</td>\n",
       "      <td>60.3</td>\n",
       "      <td>174.0</td>\n",
       "    </tr>\n",
       "    <tr>\n",
       "      <th>1</th>\n",
       "      <td>17</td>\n",
       "      <td>55.4</td>\n",
       "      <td>170.0</td>\n",
       "    </tr>\n",
       "    <tr>\n",
       "      <th>2</th>\n",
       "      <td>19</td>\n",
       "      <td>52.0</td>\n",
       "      <td>169.0</td>\n",
       "    </tr>\n",
       "    <tr>\n",
       "      <th>3</th>\n",
       "      <td>18</td>\n",
       "      <td>64.0</td>\n",
       "      <td>178.0</td>\n",
       "    </tr>\n",
       "    <tr>\n",
       "      <th>4</th>\n",
       "      <td>17</td>\n",
       "      <td>78.0</td>\n",
       "      <td>178.0</td>\n",
       "    </tr>\n",
       "    <tr>\n",
       "      <th>5</th>\n",
       "      <td>18</td>\n",
       "      <td>60.0</td>\n",
       "      <td>175.0</td>\n",
       "    </tr>\n",
       "    <tr>\n",
       "      <th>6</th>\n",
       "      <td>19</td>\n",
       "      <td>46.0</td>\n",
       "      <td>160.0</td>\n",
       "    </tr>\n",
       "    <tr>\n",
       "      <th>7</th>\n",
       "      <td>20</td>\n",
       "      <td>65.0</td>\n",
       "      <td>180.0</td>\n",
       "    </tr>\n",
       "    <tr>\n",
       "      <th>8</th>\n",
       "      <td>17</td>\n",
       "      <td>80.0</td>\n",
       "      <td>168.0</td>\n",
       "    </tr>\n",
       "    <tr>\n",
       "      <th>9</th>\n",
       "      <td>18</td>\n",
       "      <td>68.0</td>\n",
       "      <td>183.0</td>\n",
       "    </tr>\n",
       "    <tr>\n",
       "      <th>10</th>\n",
       "      <td>18</td>\n",
       "      <td>46.8</td>\n",
       "      <td>170.0</td>\n",
       "    </tr>\n",
       "    <tr>\n",
       "      <th>11</th>\n",
       "      <td>20</td>\n",
       "      <td>56.0</td>\n",
       "      <td>157.0</td>\n",
       "    </tr>\n",
       "    <tr>\n",
       "      <th>12</th>\n",
       "      <td>18</td>\n",
       "      <td>70.0</td>\n",
       "      <td>180.0</td>\n",
       "    </tr>\n",
       "    <tr>\n",
       "      <th>13</th>\n",
       "      <td>18</td>\n",
       "      <td>50.5</td>\n",
       "      <td>155.0</td>\n",
       "    </tr>\n",
       "    <tr>\n",
       "      <th>14</th>\n",
       "      <td>18</td>\n",
       "      <td>68.5</td>\n",
       "      <td>191.0</td>\n",
       "    </tr>\n",
       "    <tr>\n",
       "      <th>15</th>\n",
       "      <td>18</td>\n",
       "      <td>44.5</td>\n",
       "      <td>158.0</td>\n",
       "    </tr>\n",
       "  </tbody>\n",
       "</table>\n",
       "</div>"
      ],
      "text/plain": [
       "    Idade  Massa  Altura\n",
       "0      17   60.3   174.0\n",
       "1      17   55.4   170.0\n",
       "2      19   52.0   169.0\n",
       "3      18   64.0   178.0\n",
       "4      17   78.0   178.0\n",
       "5      18   60.0   175.0\n",
       "6      19   46.0   160.0\n",
       "7      20   65.0   180.0\n",
       "8      17   80.0   168.0\n",
       "9      18   68.0   183.0\n",
       "10     18   46.8   170.0\n",
       "11     20   56.0   157.0\n",
       "12     18   70.0   180.0\n",
       "13     18   50.5   155.0\n",
       "14     18   68.5   191.0\n",
       "15     18   44.5   158.0"
      ]
     },
     "execution_count": 16,
     "metadata": {},
     "output_type": "execute_result"
    }
   ],
   "source": [
    "df_estudantes = pd.DataFrame( {'Idade': idade, 'Massa': massa, 'Altura': altura} )\n",
    "df_estudantes"
   ]
  },
  {
   "cell_type": "code",
   "execution_count": 17,
   "metadata": {},
   "outputs": [
    {
     "data": {
      "text/html": [
       "<div>\n",
       "<style scoped>\n",
       "    .dataframe tbody tr th:only-of-type {\n",
       "        vertical-align: middle;\n",
       "    }\n",
       "\n",
       "    .dataframe tbody tr th {\n",
       "        vertical-align: top;\n",
       "    }\n",
       "\n",
       "    .dataframe thead th {\n",
       "        text-align: right;\n",
       "    }\n",
       "</style>\n",
       "<table border=\"1\" class=\"dataframe\">\n",
       "  <thead>\n",
       "    <tr style=\"text-align: right;\">\n",
       "      <th></th>\n",
       "      <th>Idade</th>\n",
       "      <th>Massa</th>\n",
       "      <th>Altura</th>\n",
       "    </tr>\n",
       "  </thead>\n",
       "  <tbody>\n",
       "    <tr>\n",
       "      <th>count</th>\n",
       "      <td>16.000000</td>\n",
       "      <td>16.000000</td>\n",
       "      <td>16.000000</td>\n",
       "    </tr>\n",
       "    <tr>\n",
       "      <th>mean</th>\n",
       "      <td>18.125000</td>\n",
       "      <td>60.312500</td>\n",
       "      <td>171.625000</td>\n",
       "    </tr>\n",
       "    <tr>\n",
       "      <th>std</th>\n",
       "      <td>0.957427</td>\n",
       "      <td>10.959554</td>\n",
       "      <td>10.262391</td>\n",
       "    </tr>\n",
       "    <tr>\n",
       "      <th>min</th>\n",
       "      <td>17.000000</td>\n",
       "      <td>44.500000</td>\n",
       "      <td>155.000000</td>\n",
       "    </tr>\n",
       "    <tr>\n",
       "      <th>25%</th>\n",
       "      <td>17.750000</td>\n",
       "      <td>51.625000</td>\n",
       "      <td>166.000000</td>\n",
       "    </tr>\n",
       "    <tr>\n",
       "      <th>50%</th>\n",
       "      <td>18.000000</td>\n",
       "      <td>60.150000</td>\n",
       "      <td>172.000000</td>\n",
       "    </tr>\n",
       "    <tr>\n",
       "      <th>75%</th>\n",
       "      <td>18.250000</td>\n",
       "      <td>68.125000</td>\n",
       "      <td>178.500000</td>\n",
       "    </tr>\n",
       "    <tr>\n",
       "      <th>max</th>\n",
       "      <td>20.000000</td>\n",
       "      <td>80.000000</td>\n",
       "      <td>191.000000</td>\n",
       "    </tr>\n",
       "  </tbody>\n",
       "</table>\n",
       "</div>"
      ],
      "text/plain": [
       "           Idade      Massa      Altura\n",
       "count  16.000000  16.000000   16.000000\n",
       "mean   18.125000  60.312500  171.625000\n",
       "std     0.957427  10.959554   10.262391\n",
       "min    17.000000  44.500000  155.000000\n",
       "25%    17.750000  51.625000  166.000000\n",
       "50%    18.000000  60.150000  172.000000\n",
       "75%    18.250000  68.125000  178.500000\n",
       "max    20.000000  80.000000  191.000000"
      ]
     },
     "execution_count": 17,
     "metadata": {},
     "output_type": "execute_result"
    }
   ],
   "source": [
    "df_estudantes.describe()"
   ]
  },
  {
   "cell_type": "code",
   "execution_count": 18,
   "metadata": {},
   "outputs": [
    {
     "data": {
      "text/plain": [
       "Text(0, 0.5, 'Massa (kg)')"
      ]
     },
     "execution_count": 18,
     "metadata": {},
     "output_type": "execute_result"
    },
    {
     "data": {
      "image/png": "[encoded data removed]",
      "text/plain": [
       "<Figure size 432x288 with 1 Axes>"
      ]
     },
     "metadata": {
      "needs_background": "light"
     },
     "output_type": "display_data"
    }
   ],
   "source": [
    "plt.plot( df_estudantes['Altura'], df_estudantes['Massa'], 'o' )\n",
    "plt.xlabel( 'Altura (cm)' )\n",
    "plt.ylabel( 'Massa (kg)' )"
   ]
  },
  {
   "cell_type": "code",
   "execution_count": 19,
   "metadata": {},
   "outputs": [
    {
     "data": {
      "text/plain": [
       "Text(0, 0.5, 'Massa (kg)')"
      ]
     },
     "execution_count": 19,
     "metadata": {},
     "output_type": "execute_result"
    },
    {
     "data": {
      "image/png": "[encoded data removed]",
      "text/plain": [
       "<Figure size 432x288 with 1 Axes>"
      ]
     },
     "metadata": {
      "needs_background": "light"
     },
     "output_type": "display_data"
    }
   ],
   "source": [
    "plt.plot( df_estudantes['Idade'], df_estudantes['Massa'], 'o' )\n",
    "plt.xlabel( 'Idade (anos)' )\n",
    "plt.ylabel( 'Massa (kg)' )"
   ]
  },
  {
   "cell_type": "code",
   "execution_count": 20,
   "metadata": {},
   "outputs": [
    {
     "data": {
      "text/plain": [
       "Text(0, 0.5, 'Altura (cm)')"
      ]
     },
     "execution_count": 20,
     "metadata": {},
     "output_type": "execute_result"
    },
    {
     "data": {
      "image/png": "[encoded data removed]",
      "text/plain": [
       "<Figure size 432x288 with 1 Axes>"
      ]
     },
     "metadata": {
      "needs_background": "light"
     },
     "output_type": "display_data"
    }
   ],
   "source": [
    "plt.plot( df_estudantes['Idade'], df_estudantes['Altura'], 'o' )\n",
    "plt.xlabel( 'Idade (anos)' )\n",
    "plt.ylabel( 'Altura (cm)' )"
   ]
  },
  {
   "cell_type": "code",
   "execution_count": null,
   "metadata": {},
   "outputs": [],
   "source": []
  }
 ],
 "metadata": {
  "kernelspec": {
   "display_name": "Python 3",
   "language": "python",
   "name": "python3"
  },
  "language_info": {
   "codemirror_mode": {
    "name": "ipython",
    "version": 3
   },
   "file_extension": ".py",
   "mimetype": "text/x-python",
   "name": "python",
   "nbconvert_exporter": "python",
   "pygments_lexer": "ipython3",
   "version": "3.7.1"
  }
 },
 "nbformat": 4,
 "nbformat_minor": 2
}
